{
 "cells": [
  {
   "cell_type": "markdown",
   "id": "27789d2f",
   "metadata": {},
   "source": [
    "# **Análise ilustrativa**\n",
    "\n",
    "Este notebook tem como principal objetivo mostrar os valores de $\\alpha$ (variável implementada) e de $z$ (*redshift*) para um intervalo dividido por um número de nós em particular.  \n",
    "\n",
    "\\begin{equation}\n",
    "\\alpha =\\ln[1+z].\n",
    "\\end{equation}\n",
    "\n",
    "Apenas para efeitos de ilustração de como se comporta a variável implementada no intervalo de *redshift* especificado."
   ]
  },
  {
   "cell_type": "markdown",
   "id": "d6d50e4e",
   "metadata": {},
   "source": [
    "## **Códigos**"
   ]
  },
  {
   "cell_type": "code",
   "execution_count": 13,
   "id": "35915fd5",
   "metadata": {},
   "outputs": [],
   "source": [
    "#bibliotecas\n",
    "import numpy as np\n",
    "import math as mt\n",
    "import matplotlib.pyplot as plt\n",
    "import pandas as pdb"
   ]
  },
  {
   "cell_type": "code",
   "execution_count": 14,
   "id": "b3c49785",
   "metadata": {},
   "outputs": [
    {
     "name": "stdout",
     "output_type": "stream",
     "text": [
      "Primeiro valor de alpha é: 0.0 para zi= 0.0 \n",
      "\n",
      "Último valor de alpha é: 23.025850930040455 para zf= 10000000000 \n",
      "\n",
      "Valor de alpha entre cada intervalo da grade: 1.9188209108367047 \n",
      "\n",
      "Valores de alpha em 12 nós = [ 0.          1.91882091  3.83764182  5.75646273  7.67528364  9.59410455\n",
      " 11.51292547 13.43174638 15.35056729 17.2693882  19.18820911 21.10703002\n",
      " 23.02585093] \n",
      "\n",
      "Valores de z em cada um dos 12 nós= [0.00000000e+00 5.81292069e+00 4.54158883e+01 3.15227766e+02\n",
      " 2.15343469e+03 1.46769927e+04 9.99990000e+04 6.81291069e+05\n",
      " 4.64158783e+06 3.16227756e+07 2.15443468e+08 1.46779927e+09\n",
      " 1.00000000e+10] \n",
      "\n",
      "*OBS*: Lembrando que na computação a contagem sempre começa do zero.\n",
      "Ou seja, na posição 0 temos o nó em alpha = 0.0 que corresponde a z= 0.0\n",
      "E na posição 13 temos o nó em alpha = 23.025850930040455 que corresponde a z= 10000000000\n",
      "Por isso as listas de alpha e z apresentam 13 valores cada, pois contamos o 0 também.\n",
      "\n"
     ]
    }
   ],
   "source": [
    "#função: alpha = ln[1+z]\n",
    "\n",
    "#informações de entrada\n",
    "zi  = 0.0       #redshift inicial\n",
    "zf  = 10**(10)  #redshift final\n",
    "nos = 12        #divisões da grade (número de nós)\n",
    "\n",
    "#função que calcula o último valor de alpha na grade\n",
    "alphai = mt.log(1+zi)  #Valor do primeiro alpha correspondente a zi\n",
    "alphaf = mt.log(1+zf)  #Valor do último alpha correspondente a zf\n",
    "\n",
    "#divisões da grade\n",
    "divgrade = alphaf/nos \n",
    "\n",
    "#função que retorna números com espaçamento uniforme em um intervalo especificado.\n",
    "intervgrade = np.linspace(alphai, alphaf, num=nos, endpoint=False)  #escala linear\n",
    "intervgrade = np.append(intervgrade,alphaf)  #adiciona o último valor de alpha a lista\n",
    "#intervgrade = list(intervgrade)\n",
    "\n",
    "\n",
    "#nº de valores em cada lista (O nº de valores em alpha é igual ao nº de valores em z.)\n",
    "compalpha=len(intervgrade)  \n",
    "\n",
    "\n",
    "#função que retorna os valores de z em cada nó\n",
    "znos = np.expm1(intervgrade)        #escala linear\n",
    "#znos = list(znos)\n",
    "\n",
    "#informações de saída\n",
    "print(\"Primeiro valor de alpha é:\",alphai,\"para zi=\",zi,\"\\n\")\n",
    "print(\"Último valor de alpha é:\",alphaf, \"para zf=\",zf,\"\\n\")\n",
    "print(\"Valor de alpha entre cada intervalo da grade:\",divgrade,\"\\n\") \n",
    "print(\"Valores de alpha em\",nos,\"nós =\",intervgrade,\"\\n\")\n",
    "print(\"Valores de z em cada um dos\", nos,\"nós=\",znos,\"\\n\")\n",
    "\n",
    "\n",
    "print(\"*OBS*: Lembrando que na computação a contagem sempre começa do zero.\")\n",
    "print(\"Ou seja, na posição 0 temos o nó em alpha =\",alphai, \"que corresponde a z=\", zi) \n",
    "print(\"E na posição\", compalpha, \"temos o nó em alpha =\",alphaf, \"que corresponde a z=\", zf)\n",
    "print(\"Por isso as listas de alpha e z apresentam\", compalpha, \"valores cada, pois contamos o 0 também.\\n\") \n"
   ]
  },
  {
   "cell_type": "markdown",
   "id": "aab575df",
   "metadata": {},
   "source": [
    "### **Gráfico**"
   ]
  },
  {
   "cell_type": "markdown",
   "id": "fe001e43",
   "metadata": {},
   "source": [
    "Ajuste linear dos dados. Também poderia ser feito um ajuste em escala logaritmica. No entanto, apenas para efeitos de ilustração gráfica plotamos os dados em escala linear."
   ]
  },
  {
   "cell_type": "code",
   "execution_count": 15,
   "id": "48b5662b",
   "metadata": {
    "scrolled": false
   },
   "outputs": [
    {
     "data": {
      "image/png": "[encoded data removed]",
      "text/plain": [
       "<Figure size 1008x504 with 1 Axes>"
      ]
     },
     "metadata": {
      "needs_background": "light"
     },
     "output_type": "display_data"
    }
   ],
   "source": [
    "#Gráfico em escala linear de alpha(z) =ln(1+z)\n",
    "plt.figure(figsize=(14, 7)) #tamanho\n",
    "graph = plt.plot(znos, intervgrade) #plot\n",
    "plt.ylabel('alpha (z)', fontsize=14) #valor no eixo das abscissas\n",
    "plt.xlabel('z', fontsize=14) #valor no eixo das ordenadas\n",
    "plt.legend(['alpha =ln[1+z]'],fontsize=14) #legenda da curva\n",
    "\n",
    "#Mostra o gráfico pro usuário\n",
    "plt.show(graph)"
   ]
  },
  {
   "cell_type": "code",
   "execution_count": 16,
   "id": "e185288d",
   "metadata": {},
   "outputs": [
    {
     "name": "stdout",
     "output_type": "stream",
     "text": [
      "Primeiro valor de alpha é: 0.0 para zi= 0.0 \n",
      "\n",
      "Último valor de alpha é: 9.210440366976517 para zf= 10000 \n",
      "\n",
      "Valor de alpha entre cada intervalo da grade: 0.7675366972480431 \n",
      "\n",
      "Valores de alpha em 12 nós = [0.         0.7675367  1.53507339 2.30261009 3.07014679 3.83768349\n",
      " 4.60522018 5.37275688 6.14029358 6.90783028 7.67536697 8.44290367\n",
      " 9.21044037] \n",
      "\n",
      "Valores de z em cada um dos 12 nós= [0.00000000e+00 1.15445264e+00 3.64166619e+00 9.00024999e+00\n",
      " 2.05450650e+01 4.54178223e+01 9.90049999e+01 2.14456036e+02\n",
      " 4.63189827e+02 9.99074999e+02 2.15361422e+03 4.64101431e+03\n",
      " 1.00000000e+04] \n",
      "\n",
      "*OBS*: Lembrando que na computação a contagem sempre começa do zero.\n",
      "Ou seja, na posição 0 temos o nó em alpha = 0.0 que corresponde a z= 0.0\n",
      "E na posição 13 temos o nó em alpha = 9.210440366976517 que corresponde a z= 10000\n",
      "Por isso as listas de alpha e z apresentam 13 valores cada, pois contamos o 0 também.\n",
      "\n"
     ]
    }
   ],
   "source": [
    "#função: alpha = ln[1+z]\n",
    "\n",
    "#informações de entrada\n",
    "zi  = 0.0       #redshift inicial\n",
    "zf  = 10**(4)  #redshift final\n",
    "nos = 12        #divisões da grade (número de nós)\n",
    "\n",
    "#função que calcula o último valor de alpha na grade\n",
    "alphai = mt.log(1+zi)  #Valor do primeiro alpha correspondente a zi\n",
    "alphaf = mt.log(1+zf)  #Valor do último alpha correspondente a zf\n",
    "\n",
    "#divisões da grade\n",
    "divgrade = alphaf/nos \n",
    "\n",
    "#função que retorna números com espaçamento uniforme em um intervalo especificado.\n",
    "intervgrade = np.linspace(alphai, alphaf, num=nos, endpoint=False)  #escala linear\n",
    "intervgrade = np.append(intervgrade,alphaf)  #adiciona o último valor de alpha a lista\n",
    "#intervgrade = list(intervgrade)\n",
    "\n",
    "\n",
    "#nº de valores em cada lista (O nº de valores em alpha é igual ao nº de valores em z.)\n",
    "compalpha=len(intervgrade)  \n",
    "\n",
    "\n",
    "#função que retorna os valores de z em cada nó\n",
    "znos = np.expm1(intervgrade)        #escala linear\n",
    "#znos = list(znos)\n",
    "\n",
    "#informações de saída\n",
    "print(\"Primeiro valor de alpha é:\",alphai,\"para zi=\",zi,\"\\n\")\n",
    "print(\"Último valor de alpha é:\",alphaf, \"para zf=\",zf,\"\\n\")\n",
    "print(\"Valor de alpha entre cada intervalo da grade:\",divgrade,\"\\n\") \n",
    "print(\"Valores de alpha em\",nos,\"nós =\",intervgrade,\"\\n\")\n",
    "print(\"Valores de z em cada um dos\", nos,\"nós=\",znos,\"\\n\")\n",
    "\n",
    "\n",
    "print(\"*OBS*: Lembrando que na computação a contagem sempre começa do zero.\")\n",
    "print(\"Ou seja, na posição 0 temos o nó em alpha =\",alphai, \"que corresponde a z=\", zi) \n",
    "print(\"E na posição\", compalpha, \"temos o nó em alpha =\",alphaf, \"que corresponde a z=\", zf)\n",
    "print(\"Por isso as listas de alpha e z apresentam\", compalpha, \"valores cada, pois contamos o 0 também.\\n\") "
   ]
  },
  {
   "cell_type": "markdown",
   "id": "ef6328f5",
   "metadata": {},
   "source": [
    "### **Gráfico**"
   ]
  },
  {
   "cell_type": "markdown",
   "id": "22fcbe3f",
   "metadata": {},
   "source": [
    "Ajuste linear dos dados. Também poderia ser feito um ajuste em escala logaritmica. No entanto, apenas para efeitos de ilustração gráfica plotamos os dados em escala linear."
   ]
  },
  {
   "cell_type": "code",
   "execution_count": 17,
   "id": "485e3e8a",
   "metadata": {},
   "outputs": [
    {
     "data": {
      "image/png": "[encoded data removed]",
      "text/plain": [
       "<Figure size 1008x504 with 1 Axes>"
      ]
     },
     "metadata": {
      "needs_background": "light"
     },
     "output_type": "display_data"
    }
   ],
   "source": [
    "#Gráfico em escala linear de alpha(z) =ln(1+z)\n",
    "plt.figure(figsize=(14, 7)) #tamanho\n",
    "graph = plt.plot(znos, intervgrade) #plot\n",
    "plt.ylabel('alpha (z)', fontsize=14) #valor no eixo das abscissas\n",
    "plt.xlabel('z', fontsize=14) #valor no eixo das ordenadas\n",
    "plt.legend(['alpha =ln[1+z]'],fontsize=14) #legenda da curva\n",
    "\n",
    "#Mostra o gráfico pro usuário\n",
    "plt.show(graph)"
   ]
  }
 ],
 "metadata": {
  "kernelspec": {
   "display_name": "Python 3 (ipykernel)",
   "language": "python",
   "name": "python3"
  },
  "language_info": {
   "codemirror_mode": {
    "name": "ipython",
    "version": 3
   },
   "file_extension": ".py",
   "mimetype": "text/x-python",
   "name": "python",
   "nbconvert_exporter": "python",
   "pygments_lexer": "ipython3",
   "version": "3.10.6"
  }
 },
 "nbformat": 4,
 "nbformat_minor": 5
}
